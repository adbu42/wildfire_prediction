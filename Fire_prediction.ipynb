{
 "cells": [
  {
   "cell_type": "code",
   "execution_count": 1,
   "id": "d3bb02d4",
   "metadata": {},
   "outputs": [],
   "source": [
    "import numpy as np\n",
    "import pandas as pd\n",
    "import matplotlib.pyplot as plt\n",
    "import seaborn as sns\n",
    "from sklearn.model_selection import train_test_split, KFold\n",
    "from sklearn.metrics import mean_squared_error, mean_absolute_error\n",
    "from sklearn.linear_model import Ridge, LinearRegression\n",
    "from sklearn.tree import DecisionTreeRegressor\n",
    "from sklearn.ensemble import RandomForestRegressor"
   ]
  },
  {
   "cell_type": "code",
   "execution_count": 2,
   "id": "e4811a9a",
   "metadata": {},
   "outputs": [],
   "source": [
    "fire_dataframe = pd.read_csv('fires.csv')"
   ]
  },
  {
   "cell_type": "markdown",
   "id": "c67dfef3",
   "metadata": {},
   "source": [
    "# Handling of squished distributions"
   ]
  },
  {
   "cell_type": "markdown",
   "id": "cadeb0ed",
   "metadata": {},
   "source": [
    "Show mean, variance, min, max and number of entries of the columns:"
   ]
  },
  {
   "cell_type": "code",
   "execution_count": 3,
   "id": "503f04a0",
   "metadata": {},
   "outputs": [
    {
     "data": {
      "text/html": [
       "<div>\n",
       "<style scoped>\n",
       "    .dataframe tbody tr th:only-of-type {\n",
       "        vertical-align: middle;\n",
       "    }\n",
       "\n",
       "    .dataframe tbody tr th {\n",
       "        vertical-align: top;\n",
       "    }\n",
       "\n",
       "    .dataframe thead th {\n",
       "        text-align: right;\n",
       "    }\n",
       "</style>\n",
       "<table border=\"1\" class=\"dataframe\">\n",
       "  <thead>\n",
       "    <tr style=\"text-align: right;\">\n",
       "      <th></th>\n",
       "      <th>X</th>\n",
       "      <th>Y</th>\n",
       "      <th>month</th>\n",
       "      <th>day</th>\n",
       "      <th>FFMC</th>\n",
       "      <th>DMC</th>\n",
       "      <th>DC</th>\n",
       "      <th>ISI</th>\n",
       "      <th>temp</th>\n",
       "      <th>RH</th>\n",
       "      <th>wind</th>\n",
       "      <th>rain</th>\n",
       "      <th>area</th>\n",
       "    </tr>\n",
       "  </thead>\n",
       "  <tbody>\n",
       "    <tr>\n",
       "      <th>count</th>\n",
       "      <td>517.000000</td>\n",
       "      <td>517.000000</td>\n",
       "      <td>517</td>\n",
       "      <td>517</td>\n",
       "      <td>517.000000</td>\n",
       "      <td>517.000000</td>\n",
       "      <td>517.000000</td>\n",
       "      <td>517.000000</td>\n",
       "      <td>517.000000</td>\n",
       "      <td>517.000000</td>\n",
       "      <td>517.000000</td>\n",
       "      <td>517.000000</td>\n",
       "      <td>517.000000</td>\n",
       "    </tr>\n",
       "    <tr>\n",
       "      <th>unique</th>\n",
       "      <td>NaN</td>\n",
       "      <td>NaN</td>\n",
       "      <td>12</td>\n",
       "      <td>7</td>\n",
       "      <td>NaN</td>\n",
       "      <td>NaN</td>\n",
       "      <td>NaN</td>\n",
       "      <td>NaN</td>\n",
       "      <td>NaN</td>\n",
       "      <td>NaN</td>\n",
       "      <td>NaN</td>\n",
       "      <td>NaN</td>\n",
       "      <td>NaN</td>\n",
       "    </tr>\n",
       "    <tr>\n",
       "      <th>top</th>\n",
       "      <td>NaN</td>\n",
       "      <td>NaN</td>\n",
       "      <td>aug</td>\n",
       "      <td>sun</td>\n",
       "      <td>NaN</td>\n",
       "      <td>NaN</td>\n",
       "      <td>NaN</td>\n",
       "      <td>NaN</td>\n",
       "      <td>NaN</td>\n",
       "      <td>NaN</td>\n",
       "      <td>NaN</td>\n",
       "      <td>NaN</td>\n",
       "      <td>NaN</td>\n",
       "    </tr>\n",
       "    <tr>\n",
       "      <th>freq</th>\n",
       "      <td>NaN</td>\n",
       "      <td>NaN</td>\n",
       "      <td>184</td>\n",
       "      <td>95</td>\n",
       "      <td>NaN</td>\n",
       "      <td>NaN</td>\n",
       "      <td>NaN</td>\n",
       "      <td>NaN</td>\n",
       "      <td>NaN</td>\n",
       "      <td>NaN</td>\n",
       "      <td>NaN</td>\n",
       "      <td>NaN</td>\n",
       "      <td>NaN</td>\n",
       "    </tr>\n",
       "    <tr>\n",
       "      <th>mean</th>\n",
       "      <td>4.669246</td>\n",
       "      <td>4.299807</td>\n",
       "      <td>NaN</td>\n",
       "      <td>NaN</td>\n",
       "      <td>90.644681</td>\n",
       "      <td>110.872340</td>\n",
       "      <td>547.940039</td>\n",
       "      <td>9.021663</td>\n",
       "      <td>18.889168</td>\n",
       "      <td>44.288201</td>\n",
       "      <td>4.017602</td>\n",
       "      <td>0.021663</td>\n",
       "      <td>12.847292</td>\n",
       "    </tr>\n",
       "    <tr>\n",
       "      <th>std</th>\n",
       "      <td>2.313778</td>\n",
       "      <td>1.229900</td>\n",
       "      <td>NaN</td>\n",
       "      <td>NaN</td>\n",
       "      <td>5.520111</td>\n",
       "      <td>64.046482</td>\n",
       "      <td>248.066192</td>\n",
       "      <td>4.559477</td>\n",
       "      <td>5.806625</td>\n",
       "      <td>16.317469</td>\n",
       "      <td>1.791653</td>\n",
       "      <td>0.295959</td>\n",
       "      <td>63.655818</td>\n",
       "    </tr>\n",
       "    <tr>\n",
       "      <th>min</th>\n",
       "      <td>1.000000</td>\n",
       "      <td>2.000000</td>\n",
       "      <td>NaN</td>\n",
       "      <td>NaN</td>\n",
       "      <td>18.700000</td>\n",
       "      <td>1.100000</td>\n",
       "      <td>7.900000</td>\n",
       "      <td>0.000000</td>\n",
       "      <td>2.200000</td>\n",
       "      <td>15.000000</td>\n",
       "      <td>0.400000</td>\n",
       "      <td>0.000000</td>\n",
       "      <td>0.000000</td>\n",
       "    </tr>\n",
       "    <tr>\n",
       "      <th>25%</th>\n",
       "      <td>3.000000</td>\n",
       "      <td>4.000000</td>\n",
       "      <td>NaN</td>\n",
       "      <td>NaN</td>\n",
       "      <td>90.200000</td>\n",
       "      <td>68.600000</td>\n",
       "      <td>437.700000</td>\n",
       "      <td>6.500000</td>\n",
       "      <td>15.500000</td>\n",
       "      <td>33.000000</td>\n",
       "      <td>2.700000</td>\n",
       "      <td>0.000000</td>\n",
       "      <td>0.000000</td>\n",
       "    </tr>\n",
       "    <tr>\n",
       "      <th>50%</th>\n",
       "      <td>4.000000</td>\n",
       "      <td>4.000000</td>\n",
       "      <td>NaN</td>\n",
       "      <td>NaN</td>\n",
       "      <td>91.600000</td>\n",
       "      <td>108.300000</td>\n",
       "      <td>664.200000</td>\n",
       "      <td>8.400000</td>\n",
       "      <td>19.300000</td>\n",
       "      <td>42.000000</td>\n",
       "      <td>4.000000</td>\n",
       "      <td>0.000000</td>\n",
       "      <td>0.520000</td>\n",
       "    </tr>\n",
       "    <tr>\n",
       "      <th>75%</th>\n",
       "      <td>7.000000</td>\n",
       "      <td>5.000000</td>\n",
       "      <td>NaN</td>\n",
       "      <td>NaN</td>\n",
       "      <td>92.900000</td>\n",
       "      <td>142.400000</td>\n",
       "      <td>713.900000</td>\n",
       "      <td>10.800000</td>\n",
       "      <td>22.800000</td>\n",
       "      <td>53.000000</td>\n",
       "      <td>4.900000</td>\n",
       "      <td>0.000000</td>\n",
       "      <td>6.570000</td>\n",
       "    </tr>\n",
       "    <tr>\n",
       "      <th>max</th>\n",
       "      <td>9.000000</td>\n",
       "      <td>9.000000</td>\n",
       "      <td>NaN</td>\n",
       "      <td>NaN</td>\n",
       "      <td>96.200000</td>\n",
       "      <td>291.300000</td>\n",
       "      <td>860.600000</td>\n",
       "      <td>56.100000</td>\n",
       "      <td>33.300000</td>\n",
       "      <td>100.000000</td>\n",
       "      <td>9.400000</td>\n",
       "      <td>6.400000</td>\n",
       "      <td>1090.840000</td>\n",
       "    </tr>\n",
       "  </tbody>\n",
       "</table>\n",
       "</div>"
      ],
      "text/plain": [
       "                 X           Y month  day        FFMC         DMC          DC  \\\n",
       "count   517.000000  517.000000   517  517  517.000000  517.000000  517.000000   \n",
       "unique         NaN         NaN    12    7         NaN         NaN         NaN   \n",
       "top            NaN         NaN   aug  sun         NaN         NaN         NaN   \n",
       "freq           NaN         NaN   184   95         NaN         NaN         NaN   \n",
       "mean      4.669246    4.299807   NaN  NaN   90.644681  110.872340  547.940039   \n",
       "std       2.313778    1.229900   NaN  NaN    5.520111   64.046482  248.066192   \n",
       "min       1.000000    2.000000   NaN  NaN   18.700000    1.100000    7.900000   \n",
       "25%       3.000000    4.000000   NaN  NaN   90.200000   68.600000  437.700000   \n",
       "50%       4.000000    4.000000   NaN  NaN   91.600000  108.300000  664.200000   \n",
       "75%       7.000000    5.000000   NaN  NaN   92.900000  142.400000  713.900000   \n",
       "max       9.000000    9.000000   NaN  NaN   96.200000  291.300000  860.600000   \n",
       "\n",
       "               ISI        temp          RH        wind        rain  \\\n",
       "count   517.000000  517.000000  517.000000  517.000000  517.000000   \n",
       "unique         NaN         NaN         NaN         NaN         NaN   \n",
       "top            NaN         NaN         NaN         NaN         NaN   \n",
       "freq           NaN         NaN         NaN         NaN         NaN   \n",
       "mean      9.021663   18.889168   44.288201    4.017602    0.021663   \n",
       "std       4.559477    5.806625   16.317469    1.791653    0.295959   \n",
       "min       0.000000    2.200000   15.000000    0.400000    0.000000   \n",
       "25%       6.500000   15.500000   33.000000    2.700000    0.000000   \n",
       "50%       8.400000   19.300000   42.000000    4.000000    0.000000   \n",
       "75%      10.800000   22.800000   53.000000    4.900000    0.000000   \n",
       "max      56.100000   33.300000  100.000000    9.400000    6.400000   \n",
       "\n",
       "               area  \n",
       "count    517.000000  \n",
       "unique          NaN  \n",
       "top             NaN  \n",
       "freq            NaN  \n",
       "mean      12.847292  \n",
       "std       63.655818  \n",
       "min        0.000000  \n",
       "25%        0.000000  \n",
       "50%        0.520000  \n",
       "75%        6.570000  \n",
       "max     1090.840000  "
      ]
     },
     "execution_count": 3,
     "metadata": {},
     "output_type": "execute_result"
    }
   ],
   "source": [
    "fire_dataframe.describe(include='all')"
   ]
  },
  {
   "cell_type": "code",
   "execution_count": 4,
   "id": "9b414fec",
   "metadata": {},
   "outputs": [
    {
     "data": {
      "image/png": "[encoded data removed]",
      "text/plain": [
       "<Figure size 432x288 with 1 Axes>"
      ]
     },
     "metadata": {
      "needs_background": "light"
     },
     "output_type": "display_data"
    }
   ],
   "source": [
    "plt.hist(fire_dataframe['area'], bins = 50)\n",
    "plt.xlabel('area')\n",
    "plt.show()"
   ]
  },
  {
   "cell_type": "markdown",
   "id": "54efb04f",
   "metadata": {},
   "source": [
    "We can see that there are outliers with a very huge area (over 1000 hectare) in the dataset. Generally, the column seems to be very imbalanced. Since the burned area seems fine in the context, we cannot exclude the outliers and therefore have to adapt the column to not let the model focus too much on the outliers. The data can be spread out more with help of the log function."
   ]
  },
  {
   "cell_type": "code",
   "execution_count": 5,
   "id": "f80b7e66",
   "metadata": {},
   "outputs": [],
   "source": [
    "fire_dataframe['area'] = np.log(fire_dataframe['area']+1)"
   ]
  },
  {
   "cell_type": "code",
   "execution_count": 6,
   "id": "80fdcc0d",
   "metadata": {},
   "outputs": [
    {
     "data": {
      "image/png": "[encoded data removed]",
      "text/plain": [
       "<Figure size 432x288 with 1 Axes>"
      ]
     },
     "metadata": {
      "needs_background": "light"
     },
     "output_type": "display_data"
    }
   ],
   "source": [
    "plt.hist(fire_dataframe['area'], bins = 50)\n",
    "plt.xlabel('area')\n",
    "plt.show()"
   ]
  },
  {
   "cell_type": "markdown",
   "id": "573a4d3c",
   "metadata": {},
   "source": [
    "Now the area is more evenly distributed."
   ]
  },
  {
   "cell_type": "code",
   "execution_count": 7,
   "id": "b9ef3ff1",
   "metadata": {},
   "outputs": [
    {
     "name": "stdout",
     "output_type": "stream",
     "text": [
      "X         4.669246\n",
      "Y         4.299807\n",
      "FFMC     90.644681\n",
      "DMC     110.872340\n",
      "DC      547.940039\n",
      "ISI       9.021663\n",
      "temp     18.889168\n",
      "RH       44.288201\n",
      "wind      4.017602\n",
      "rain      0.021663\n",
      "area      1.111026\n",
      "dtype: float64\n"
     ]
    }
   ],
   "source": [
    "print(fire_dataframe.mean(numeric_only=True))"
   ]
  },
  {
   "cell_type": "markdown",
   "id": "b9c5328d",
   "metadata": {},
   "source": [
    "We also have to check on the other columns to see if there are irregularities we have to account for."
   ]
  },
  {
   "cell_type": "code",
   "execution_count": 8,
   "id": "64ad79ad",
   "metadata": {},
   "outputs": [
    {
     "data": {
      "image/png": "[encoded data removed]",
      "text/plain": [
       "<Figure size 1080x720 with 12 Axes>"
      ]
     },
     "metadata": {
      "needs_background": "light"
     },
     "output_type": "display_data"
    }
   ],
   "source": [
    "_ = fire_dataframe.hist(bins = 50, figsize=(15, 10))"
   ]
  },
  {
   "cell_type": "markdown",
   "id": "9f98e4c9",
   "metadata": {},
   "source": [
    "Generally, it seems like the dataset is well balanced except for the ISI and the FFMC index. Since the ISI column can be left out (see handling correlations), only the FFMC index has to be changed. We can again use the log-function this time. We subtract from 100 since it is the maximal value FFMC can get according to https://cfs.nrcan.gc.ca/pubwarehouse/pdfs/19927.pdf."
   ]
  },
  {
   "cell_type": "code",
   "execution_count": 9,
   "id": "1843ecf4",
   "metadata": {},
   "outputs": [],
   "source": [
    "fire_dataframe['FFMC'] = np.log(101-fire_dataframe['FFMC'])"
   ]
  },
  {
   "cell_type": "code",
   "execution_count": 10,
   "id": "cd81b4ec",
   "metadata": {},
   "outputs": [
    {
     "data": {
      "image/png": "[encoded data removed]",
      "text/plain": [
       "<Figure size 432x288 with 1 Axes>"
      ]
     },
     "metadata": {
      "needs_background": "light"
     },
     "output_type": "display_data"
    }
   ],
   "source": [
    "plt.hist(fire_dataframe['FFMC'], bins = 50)\n",
    "plt.xlabel('FFMC')\n",
    "plt.show()"
   ]
  },
  {
   "cell_type": "code",
   "execution_count": 11,
   "id": "ecc49e3a",
   "metadata": {},
   "outputs": [
    {
     "data": {
      "image/png": "[encoded data removed]",
      "text/plain": [
       "<Figure size 1080x720 with 12 Axes>"
      ]
     },
     "metadata": {
      "needs_background": "light"
     },
     "output_type": "display_data"
    }
   ],
   "source": [
    "_ = fire_dataframe.hist(bins = 50, figsize=(15, 10))"
   ]
  },
  {
   "cell_type": "markdown",
   "id": "643d7551",
   "metadata": {},
   "source": [
    "# Handling correlations within the training data"
   ]
  },
  {
   "cell_type": "markdown",
   "id": "184be1d7",
   "metadata": {},
   "source": [
    "One thing we want to avoid is having correlations within the data we use to predict our label. Columns that have a causal relationship do not bring new information to the model, while only making it more complex and therefore prone to overfitting. The easiest way to see if correlations (or even causalities) exist within our data is to look up how the indixes are calculated:"
   ]
  },
  {
   "cell_type": "markdown",
   "id": "7d4e8194",
   "metadata": {},
   "source": [
    "According to the \"Development and Structure of the canadian Forest Fire Weather Index System\" by van Wagner https://cfs.nrcan.gc.ca/pubwarehouse/pdfs/19927.pdf\n",
    "\n",
    "$ISI = 0.208* e^{0.05039*wind}*f(FFMC)$, where f is a relativly complex function only depending on FFMC.\n"
   ]
  },
  {
   "cell_type": "markdown",
   "id": "6e58606a",
   "metadata": {},
   "source": [
    "We can check this by calculating the correlation between the columns:"
   ]
  },
  {
   "cell_type": "code",
   "execution_count": 12,
   "id": "86ea0816",
   "metadata": {},
   "outputs": [
    {
     "data": {
      "text/plain": [
       "<AxesSubplot:>"
      ]
     },
     "execution_count": 12,
     "metadata": {},
     "output_type": "execute_result"
    },
    {
     "data": {
      "image/png": "[encoded data removed]",
      "text/plain": [
       "<Figure size 432x288 with 2 Axes>"
      ]
     },
     "metadata": {
      "needs_background": "light"
     },
     "output_type": "display_data"
    }
   ],
   "source": [
    "fire_corr = fire_dataframe.corr(method='spearman')\n",
    "sns.heatmap(fire_corr, xticklabels=fire_corr.columns, yticklabels=fire_corr.columns)"
   ]
  },
  {
   "cell_type": "code",
   "execution_count": 13,
   "id": "5c11f17f",
   "metadata": {},
   "outputs": [
    {
     "name": "stdout",
     "output_type": "stream",
     "text": [
      "        X    Y      FFMC  DMC   DC       ISI  temp   RH  wind  rain  area\n",
      "X     1.0  NaN       NaN  NaN  NaN       NaN   NaN  NaN   NaN   NaN   NaN\n",
      "Y     NaN  1.0       NaN  NaN  NaN       NaN   NaN  NaN   NaN   NaN   NaN\n",
      "FFMC  NaN  NaN  1.000000  NaN  NaN -0.783566   NaN  NaN   NaN   NaN   NaN\n",
      "DMC   NaN  NaN       NaN  1.0  NaN       NaN   NaN  NaN   NaN   NaN   NaN\n",
      "DC    NaN  NaN       NaN  NaN  1.0       NaN   NaN  NaN   NaN   NaN   NaN\n",
      "ISI   NaN  NaN -0.783566  NaN  NaN  1.000000   NaN  NaN   NaN   NaN   NaN\n",
      "temp  NaN  NaN       NaN  NaN  NaN       NaN   1.0  NaN   NaN   NaN   NaN\n",
      "RH    NaN  NaN       NaN  NaN  NaN       NaN   NaN  1.0   NaN   NaN   NaN\n",
      "wind  NaN  NaN       NaN  NaN  NaN       NaN   NaN  NaN   1.0   NaN   NaN\n",
      "rain  NaN  NaN       NaN  NaN  NaN       NaN   NaN  NaN   NaN   1.0   NaN\n",
      "area  NaN  NaN       NaN  NaN  NaN       NaN   NaN  NaN   NaN   NaN   1.0\n"
     ]
    }
   ],
   "source": [
    "print(fire_corr[(fire_corr>0.7) | (fire_corr<-0.7)])"
   ]
  },
  {
   "cell_type": "markdown",
   "id": "806a3cdc",
   "metadata": {},
   "source": [
    "We can see that there exists a high correlation between FFMC and ISI. We know that ISI is dependent on FFMC and wind, which is why we are going to exclude this column from our model building."
   ]
  },
  {
   "cell_type": "code",
   "execution_count": 14,
   "id": "46b05bd1",
   "metadata": {},
   "outputs": [],
   "source": [
    "fire_dataframe.drop('ISI', axis=1,  inplace=True)"
   ]
  },
  {
   "cell_type": "markdown",
   "id": "7a41b931",
   "metadata": {},
   "source": [
    "# Transform month and day to numerical values"
   ]
  },
  {
   "cell_type": "markdown",
   "id": "563c98f7",
   "metadata": {},
   "source": [
    "We can see that there is no clear distinction between weekend and weekday. Therefore transforming 'day' into a boolean value regarding weekend is not enough."
   ]
  },
  {
   "cell_type": "code",
   "execution_count": 15,
   "id": "b94c4afb",
   "metadata": {},
   "outputs": [
    {
     "data": {
      "text/plain": [
       "day\n",
       "fri    0.969771\n",
       "mon    1.089968\n",
       "sat    1.226396\n",
       "sun    1.124093\n",
       "thu    1.026267\n",
       "tue    1.230719\n",
       "wed    1.113664\n",
       "Name: area, dtype: float64"
      ]
     },
     "execution_count": 15,
     "metadata": {},
     "output_type": "execute_result"
    }
   ],
   "source": [
    "fire_dataframe.groupby('day').mean()['area']"
   ]
  },
  {
   "cell_type": "markdown",
   "id": "e1eca9ce",
   "metadata": {},
   "source": [
    "Replacing the month values by a boolean regarding summer and winter also seems to be fruitless."
   ]
  },
  {
   "cell_type": "code",
   "execution_count": 16,
   "id": "bd71b303",
   "metadata": {},
   "outputs": [
    {
     "data": {
      "text/plain": [
       "month\n",
       "apr    1.089224\n",
       "aug    1.045196\n",
       "dec    2.571670\n",
       "feb    1.087834\n",
       "jan    0.000000\n",
       "jul    1.083641\n",
       "jun    0.843091\n",
       "mar    0.772565\n",
       "may    1.837897\n",
       "nov    0.000000\n",
       "oct    0.917051\n",
       "sep    1.274537\n",
       "Name: area, dtype: float64"
      ]
     },
     "execution_count": 16,
     "metadata": {},
     "output_type": "execute_result"
    }
   ],
   "source": [
    "fire_dataframe.groupby('month').mean()['area']"
   ]
  },
  {
   "cell_type": "markdown",
   "id": "dc81fb80",
   "metadata": {},
   "source": [
    "Transforming month and weekday into numerical values can neither be done via one-hot-encoding nor by simply transforming it into the numbers 0-6 and 0-11. One-hot-encoding removes the order of days while number transformation is also wrong, since Sunday is closer to Monday than Wednesday. The solution to encode the circular relationship of weekdays and months is to transform both into sin and cosine values."
   ]
  },
  {
   "cell_type": "code",
   "execution_count": 17,
   "id": "3b9ff0ae",
   "metadata": {},
   "outputs": [],
   "source": [
    "mapping_day = {'mon':0, 'tue':1, 'wed':2, 'thu':3, 'fri':4, 'sat':5, 'sun':6}\n",
    "mapping_month = {'jan':0, 'feb':1, 'mar':2, 'apr':3, 'may':4, 'jun':5, 'jul':6, 'aug':7, 'sep':8, 'oct':9, 'nov':10, 'dec':11}\n",
    "fire_dataframe.replace({'day': mapping_day, 'month': mapping_month}, inplace=True)\n",
    "fire_dataframe['day_sin'] = np.sin(fire_dataframe['day'] * (2 * np.pi / 7))\n",
    "fire_dataframe['day_cos'] = np.cos(fire_dataframe['day'] * (2 * np.pi / 7))\n",
    "fire_dataframe['month_sin'] = np.sin(fire_dataframe['month'] * (2 * np.pi / 12))\n",
    "fire_dataframe['month_cos'] = np.cos(fire_dataframe['month'] * (2 * np.pi / 12))\n",
    "fire_dataframe.drop(['day', 'month'], axis=1, inplace=True)"
   ]
  },
  {
   "cell_type": "code",
   "execution_count": 18,
   "id": "80a1d614",
   "metadata": {},
   "outputs": [
    {
     "data": {
      "text/html": [
       "<div>\n",
       "<style scoped>\n",
       "    .dataframe tbody tr th:only-of-type {\n",
       "        vertical-align: middle;\n",
       "    }\n",
       "\n",
       "    .dataframe tbody tr th {\n",
       "        vertical-align: top;\n",
       "    }\n",
       "\n",
       "    .dataframe thead th {\n",
       "        text-align: right;\n",
       "    }\n",
       "</style>\n",
       "<table border=\"1\" class=\"dataframe\">\n",
       "  <thead>\n",
       "    <tr style=\"text-align: right;\">\n",
       "      <th></th>\n",
       "      <th>X</th>\n",
       "      <th>Y</th>\n",
       "      <th>FFMC</th>\n",
       "      <th>DMC</th>\n",
       "      <th>DC</th>\n",
       "      <th>temp</th>\n",
       "      <th>RH</th>\n",
       "      <th>wind</th>\n",
       "      <th>rain</th>\n",
       "      <th>area</th>\n",
       "      <th>day_sin</th>\n",
       "      <th>day_cos</th>\n",
       "      <th>month_sin</th>\n",
       "      <th>month_cos</th>\n",
       "    </tr>\n",
       "  </thead>\n",
       "  <tbody>\n",
       "    <tr>\n",
       "      <th>0</th>\n",
       "      <td>7</td>\n",
       "      <td>5</td>\n",
       "      <td>2.694627</td>\n",
       "      <td>26.2</td>\n",
       "      <td>94.3</td>\n",
       "      <td>8.2</td>\n",
       "      <td>51</td>\n",
       "      <td>6.7</td>\n",
       "      <td>0.0</td>\n",
       "      <td>0.0</td>\n",
       "      <td>-0.433884</td>\n",
       "      <td>-0.900969</td>\n",
       "      <td>0.866025</td>\n",
       "      <td>5.000000e-01</td>\n",
       "    </tr>\n",
       "    <tr>\n",
       "      <th>1</th>\n",
       "      <td>7</td>\n",
       "      <td>4</td>\n",
       "      <td>2.341806</td>\n",
       "      <td>35.4</td>\n",
       "      <td>669.1</td>\n",
       "      <td>18.0</td>\n",
       "      <td>33</td>\n",
       "      <td>0.9</td>\n",
       "      <td>0.0</td>\n",
       "      <td>0.0</td>\n",
       "      <td>0.781831</td>\n",
       "      <td>0.623490</td>\n",
       "      <td>-1.000000</td>\n",
       "      <td>-1.836970e-16</td>\n",
       "    </tr>\n",
       "    <tr>\n",
       "      <th>2</th>\n",
       "      <td>7</td>\n",
       "      <td>4</td>\n",
       "      <td>2.341806</td>\n",
       "      <td>43.7</td>\n",
       "      <td>686.9</td>\n",
       "      <td>14.6</td>\n",
       "      <td>33</td>\n",
       "      <td>1.3</td>\n",
       "      <td>0.0</td>\n",
       "      <td>0.0</td>\n",
       "      <td>-0.974928</td>\n",
       "      <td>-0.222521</td>\n",
       "      <td>-1.000000</td>\n",
       "      <td>-1.836970e-16</td>\n",
       "    </tr>\n",
       "    <tr>\n",
       "      <th>3</th>\n",
       "      <td>8</td>\n",
       "      <td>6</td>\n",
       "      <td>2.230014</td>\n",
       "      <td>33.3</td>\n",
       "      <td>77.5</td>\n",
       "      <td>8.3</td>\n",
       "      <td>97</td>\n",
       "      <td>4.0</td>\n",
       "      <td>0.2</td>\n",
       "      <td>0.0</td>\n",
       "      <td>-0.433884</td>\n",
       "      <td>-0.900969</td>\n",
       "      <td>0.866025</td>\n",
       "      <td>5.000000e-01</td>\n",
       "    </tr>\n",
       "    <tr>\n",
       "      <th>4</th>\n",
       "      <td>8</td>\n",
       "      <td>6</td>\n",
       "      <td>2.459589</td>\n",
       "      <td>51.3</td>\n",
       "      <td>102.2</td>\n",
       "      <td>11.4</td>\n",
       "      <td>99</td>\n",
       "      <td>1.8</td>\n",
       "      <td>0.0</td>\n",
       "      <td>0.0</td>\n",
       "      <td>-0.781831</td>\n",
       "      <td>0.623490</td>\n",
       "      <td>0.866025</td>\n",
       "      <td>5.000000e-01</td>\n",
       "    </tr>\n",
       "    <tr>\n",
       "      <th>5</th>\n",
       "      <td>8</td>\n",
       "      <td>6</td>\n",
       "      <td>2.163323</td>\n",
       "      <td>85.3</td>\n",
       "      <td>488.0</td>\n",
       "      <td>22.2</td>\n",
       "      <td>29</td>\n",
       "      <td>5.4</td>\n",
       "      <td>0.0</td>\n",
       "      <td>0.0</td>\n",
       "      <td>-0.781831</td>\n",
       "      <td>0.623490</td>\n",
       "      <td>-0.500000</td>\n",
       "      <td>-8.660254e-01</td>\n",
       "    </tr>\n",
       "    <tr>\n",
       "      <th>6</th>\n",
       "      <td>8</td>\n",
       "      <td>6</td>\n",
       "      <td>2.163323</td>\n",
       "      <td>88.9</td>\n",
       "      <td>495.6</td>\n",
       "      <td>24.1</td>\n",
       "      <td>27</td>\n",
       "      <td>3.1</td>\n",
       "      <td>0.0</td>\n",
       "      <td>0.0</td>\n",
       "      <td>0.000000</td>\n",
       "      <td>1.000000</td>\n",
       "      <td>-0.500000</td>\n",
       "      <td>-8.660254e-01</td>\n",
       "    </tr>\n",
       "    <tr>\n",
       "      <th>7</th>\n",
       "      <td>8</td>\n",
       "      <td>6</td>\n",
       "      <td>2.251292</td>\n",
       "      <td>145.4</td>\n",
       "      <td>608.2</td>\n",
       "      <td>8.0</td>\n",
       "      <td>86</td>\n",
       "      <td>2.2</td>\n",
       "      <td>0.0</td>\n",
       "      <td>0.0</td>\n",
       "      <td>0.000000</td>\n",
       "      <td>1.000000</td>\n",
       "      <td>-0.500000</td>\n",
       "      <td>-8.660254e-01</td>\n",
       "    </tr>\n",
       "    <tr>\n",
       "      <th>8</th>\n",
       "      <td>8</td>\n",
       "      <td>6</td>\n",
       "      <td>2.302585</td>\n",
       "      <td>129.5</td>\n",
       "      <td>692.6</td>\n",
       "      <td>13.1</td>\n",
       "      <td>63</td>\n",
       "      <td>5.4</td>\n",
       "      <td>0.0</td>\n",
       "      <td>0.0</td>\n",
       "      <td>0.781831</td>\n",
       "      <td>0.623490</td>\n",
       "      <td>-0.866025</td>\n",
       "      <td>-5.000000e-01</td>\n",
       "    </tr>\n",
       "    <tr>\n",
       "      <th>9</th>\n",
       "      <td>7</td>\n",
       "      <td>5</td>\n",
       "      <td>2.140066</td>\n",
       "      <td>88.0</td>\n",
       "      <td>698.6</td>\n",
       "      <td>22.8</td>\n",
       "      <td>40</td>\n",
       "      <td>4.0</td>\n",
       "      <td>0.0</td>\n",
       "      <td>0.0</td>\n",
       "      <td>-0.974928</td>\n",
       "      <td>-0.222521</td>\n",
       "      <td>-0.866025</td>\n",
       "      <td>-5.000000e-01</td>\n",
       "    </tr>\n",
       "  </tbody>\n",
       "</table>\n",
       "</div>"
      ],
      "text/plain": [
       "   X  Y      FFMC    DMC     DC  temp  RH  wind  rain  area   day_sin  \\\n",
       "0  7  5  2.694627   26.2   94.3   8.2  51   6.7   0.0   0.0 -0.433884   \n",
       "1  7  4  2.341806   35.4  669.1  18.0  33   0.9   0.0   0.0  0.781831   \n",
       "2  7  4  2.341806   43.7  686.9  14.6  33   1.3   0.0   0.0 -0.974928   \n",
       "3  8  6  2.230014   33.3   77.5   8.3  97   4.0   0.2   0.0 -0.433884   \n",
       "4  8  6  2.459589   51.3  102.2  11.4  99   1.8   0.0   0.0 -0.781831   \n",
       "5  8  6  2.163323   85.3  488.0  22.2  29   5.4   0.0   0.0 -0.781831   \n",
       "6  8  6  2.163323   88.9  495.6  24.1  27   3.1   0.0   0.0  0.000000   \n",
       "7  8  6  2.251292  145.4  608.2   8.0  86   2.2   0.0   0.0  0.000000   \n",
       "8  8  6  2.302585  129.5  692.6  13.1  63   5.4   0.0   0.0  0.781831   \n",
       "9  7  5  2.140066   88.0  698.6  22.8  40   4.0   0.0   0.0 -0.974928   \n",
       "\n",
       "    day_cos  month_sin     month_cos  \n",
       "0 -0.900969   0.866025  5.000000e-01  \n",
       "1  0.623490  -1.000000 -1.836970e-16  \n",
       "2 -0.222521  -1.000000 -1.836970e-16  \n",
       "3 -0.900969   0.866025  5.000000e-01  \n",
       "4  0.623490   0.866025  5.000000e-01  \n",
       "5  0.623490  -0.500000 -8.660254e-01  \n",
       "6  1.000000  -0.500000 -8.660254e-01  \n",
       "7  1.000000  -0.500000 -8.660254e-01  \n",
       "8  0.623490  -0.866025 -5.000000e-01  \n",
       "9 -0.222521  -0.866025 -5.000000e-01  "
      ]
     },
     "execution_count": 18,
     "metadata": {},
     "output_type": "execute_result"
    }
   ],
   "source": [
    "fire_dataframe.head(10)"
   ]
  },
  {
   "cell_type": "markdown",
   "id": "643cbf00",
   "metadata": {},
   "source": [
    "# Splitting the data into train_test and validation"
   ]
  },
  {
   "cell_type": "markdown",
   "id": "ba0a5f15",
   "metadata": {},
   "source": [
    "We split the data into 90% train_test and 10% validation."
   ]
  },
  {
   "cell_type": "code",
   "execution_count": 19,
   "id": "b27c89ca",
   "metadata": {},
   "outputs": [],
   "source": [
    "y = fire_dataframe['area'].to_numpy()\n",
    "X = fire_dataframe.drop('area', axis = 1).to_numpy()"
   ]
  },
  {
   "cell_type": "code",
   "execution_count": 20,
   "id": "ce54c46c",
   "metadata": {},
   "outputs": [],
   "source": [
    "X_train_test, X_val, y_train_test, y_val = train_test_split(X, y, test_size=0.1, random_state=42)"
   ]
  },
  {
   "cell_type": "markdown",
   "id": "f27e993d",
   "metadata": {},
   "source": [
    "# Creating the model with k-fold cross-validation"
   ]
  },
  {
   "cell_type": "markdown",
   "id": "357b635d",
   "metadata": {},
   "source": [
    "Since linear regression only has lambda as hyperparameter, we need to only focus on iproving this. To find the optimal lambda, we test the prediction power of the model with a lambda from 0 to 10 with a step-size of 1. We use mean absolute loss as test-metric."
   ]
  },
  {
   "cell_type": "code",
   "execution_count": 21,
   "id": "7a14b559",
   "metadata": {},
   "outputs": [],
   "source": [
    "def train_linear_reg(X, y, lmbd):\n",
    "    return np.linalg.inv(np.transpose(X).dot(X) + lmbd*np.eye(len(X[0]))).dot(np.transpose(X)).dot(y)"
   ]
  },
  {
   "cell_type": "code",
   "execution_count": 22,
   "id": "3c58a457",
   "metadata": {},
   "outputs": [],
   "source": [
    "def normalize(dataset, mean, variance):\n",
    "    return (dataset-mean)/variance"
   ]
  },
  {
   "cell_type": "code",
   "execution_count": 23,
   "id": "dd239d57",
   "metadata": {},
   "outputs": [],
   "source": [
    "train_loss_per_lambda = []\n",
    "test_loss_per_lambda = []\n",
    "for reg_lambda in range(11):\n",
    "    kf = KFold(n_splits=10)\n",
    "    prediction_loss = []\n",
    "    train_loss = []\n",
    "    for train_index, test_index in kf.split(X_train_test):\n",
    "        X_train, X_test = X[train_index], X[test_index]\n",
    "        y_train, y_test = y[train_index], y[test_index]\n",
    "        #apply z normalization to X\n",
    "        train_variance = np.var(X_train, axis=0)\n",
    "        train_mean = np.mean(X_train, axis=0)\n",
    "        X_train = normalize(X_train, train_mean, train_variance)\n",
    "        X_test = normalize(X_test, train_mean, train_variance)\n",
    "        theta = train_linear_reg(X_train, y_train, reg_lambda)\n",
    "        test_prediction = X_test.dot(theta)\n",
    "        train_prediction = X_train.dot(theta)\n",
    "        prediction_loss.append(mean_squared_error(y_test, test_prediction))\n",
    "        train_loss.append(mean_squared_error(y_train, train_prediction))\n",
    "    train_loss_per_lambda.append(np.mean(train_loss))\n",
    "    test_loss_per_lambda.append(np.mean(prediction_loss))"
   ]
  },
  {
   "cell_type": "code",
   "execution_count": 24,
   "id": "3b216dd3",
   "metadata": {},
   "outputs": [
    {
     "data": {
      "image/png": "[encoded data removed]",
      "text/plain": [
       "<Figure size 432x288 with 1 Axes>"
      ]
     },
     "metadata": {
      "needs_background": "light"
     },
     "output_type": "display_data"
    }
   ],
   "source": [
    "plt.plot(train_loss_per_lambda, label='train_loss')\n",
    "plt.plot(test_loss_per_lambda, label = 'test_loss')\n",
    "plt.xlabel('lambda')\n",
    "plt.ylabel('loss')\n",
    "plt.legend()\n",
    "plt.show()"
   ]
  },
  {
   "cell_type": "markdown",
   "id": "60cb38a5",
   "metadata": {},
   "source": [
    "It seems like a lambda of 0 is the best hyperparameter."
   ]
  },
  {
   "cell_type": "markdown",
   "id": "5961fc15",
   "metadata": {},
   "source": [
    "Now we can train on train and test data to evaluate the model on the validataion data. We use the mean absolute error to get an understandable metric. To understand how big the error really is, we also have to reverse the log-scale."
   ]
  },
  {
   "cell_type": "code",
   "execution_count": 25,
   "id": "4f1082e0",
   "metadata": {},
   "outputs": [
    {
     "name": "stdout",
     "output_type": "stream",
     "text": [
      "27.109888660407474\n"
     ]
    }
   ],
   "source": [
    "train_test_mean = np.mean(X_train_test, axis=0)\n",
    "train_test_var = np.mean(X_train_test, axis=0)\n",
    "X_train_test_normalized = normalize(X_train_test, train_test_mean, train_test_var)\n",
    "X_val_normalized = normalize(X_val, train_test_mean, train_test_var)\n",
    "theta = train_linear_reg(X_train_test_normalized, y_train_test, 6)\n",
    "val_prediction = X_val_normalized.dot(theta)\n",
    "mae = mean_absolute_error(np.exp(y_val)-1, np.exp(val_prediction)-1)\n",
    "print(mae)"
   ]
  },
  {
   "cell_type": "markdown",
   "id": "80e3b8c7",
   "metadata": {},
   "source": [
    "On average, the model has an error of around 27 hectare."
   ]
  },
  {
   "cell_type": "markdown",
   "id": "6c5e738d",
   "metadata": {},
   "source": [
    "We can compare this model with a trivial model. Since most of the y-values seem to be 0, our trivial model only predicts 0 as burnt area."
   ]
  },
  {
   "cell_type": "code",
   "execution_count": 26,
   "id": "1b94c3b7",
   "metadata": {},
   "outputs": [
    {
     "name": "stdout",
     "output_type": "stream",
     "text": [
      "27.05711538461539\n"
     ]
    }
   ],
   "source": [
    "mae_trivial = mean_absolute_error(np.exp(y_val)-1, [0 for x in range(len(y_val))])\n",
    "print(mae_trivial)"
   ]
  },
  {
   "cell_type": "markdown",
   "id": "d892d5c6",
   "metadata": {},
   "source": [
    "It seems that the trivial model is better at predicting the burned area than the Linear regressor. A reason for this can be the low correlation between the area and the other columns in the dataframe."
   ]
  },
  {
   "cell_type": "code",
   "execution_count": 27,
   "id": "10417229",
   "metadata": {},
   "outputs": [
    {
     "name": "stdout",
     "output_type": "stream",
     "text": [
      "X       0.060499\n",
      "Y       0.046018\n",
      "FFMC   -0.025300\n",
      "DMC     0.071920\n",
      "DC      0.061633\n",
      "ISI     0.012496\n",
      "temp    0.078696\n",
      "RH     -0.024221\n",
      "wind    0.053196\n",
      "rain   -0.064073\n",
      "area    1.000000\n",
      "Name: area, dtype: float64\n"
     ]
    }
   ],
   "source": [
    "print(fire_corr['area'])"
   ]
  }
 ],
 "metadata": {
  "kernelspec": {
   "display_name": "Python 3 (ipykernel)",
   "language": "python",
   "name": "python3"
  },
  "language_info": {
   "codemirror_mode": {
    "name": "ipython",
    "version": 3
   },
   "file_extension": ".py",
   "mimetype": "text/x-python",
   "name": "python",
   "nbconvert_exporter": "python",
   "pygments_lexer": "ipython3",
   "version": "3.8.13"
  }
 },
 "nbformat": 4,
 "nbformat_minor": 5
}
